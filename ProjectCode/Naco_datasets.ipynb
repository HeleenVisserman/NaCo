{
  "cells": [
    {
      "cell_type": "code",
      "execution_count": 1,
      "metadata": {
        "colab": {
          "base_uri": "https://localhost:8080/"
        },
        "id": "WSaJzr5gAP4i",
        "outputId": "d3e4496e-7fa5-41b7-9e12-61df4d489b1d"
      },
      "outputs": [],
      "source": [
        "data_path = './creditcard.csv'"
      ]
    },
    {
      "cell_type": "code",
      "execution_count": 3,
      "metadata": {
        "colab": {
          "base_uri": "https://localhost:8080/"
        },
        "id": "H-VwYT7p82s3",
        "outputId": "56d1adc4-5411-4093-ce7e-5a9c10ffe5b0"
      },
      "outputs": [
        {
          "name": "stdout",
          "output_type": "stream",
          "text": [
            "            Time         V1         V2        V3        V4        V5  \\\n",
            "0            0.0  -1.359807  -0.072781  2.536347  1.378155 -0.338321   \n",
            "1            0.0   1.191857   0.266151  0.166480  0.448154  0.060018   \n",
            "2            1.0  -1.358354  -1.340163  1.773209  0.379780 -0.503198   \n",
            "3            1.0  -0.966272  -0.185226  1.792993 -0.863291 -0.010309   \n",
            "4            2.0  -1.158233   0.877737  1.548718  0.403034 -0.407193   \n",
            "...          ...        ...        ...       ...       ...       ...   \n",
            "284802  172786.0 -11.881118  10.071785 -9.834783 -2.066656 -5.364473   \n",
            "284803  172787.0  -0.732789  -0.055080  2.035030 -0.738589  0.868229   \n",
            "284804  172788.0   1.919565  -0.301254 -3.249640 -0.557828  2.630515   \n",
            "284805  172788.0  -0.240440   0.530483  0.702510  0.689799 -0.377961   \n",
            "284806  172792.0  -0.533413  -0.189733  0.703337 -0.506271 -0.012546   \n",
            "\n",
            "              V6        V7        V8        V9  ...       V21       V22  \\\n",
            "0       0.462388  0.239599  0.098698  0.363787  ... -0.018307  0.277838   \n",
            "1      -0.082361 -0.078803  0.085102 -0.255425  ... -0.225775 -0.638672   \n",
            "2       1.800499  0.791461  0.247676 -1.514654  ...  0.247998  0.771679   \n",
            "3       1.247203  0.237609  0.377436 -1.387024  ... -0.108300  0.005274   \n",
            "4       0.095921  0.592941 -0.270533  0.817739  ... -0.009431  0.798278   \n",
            "...          ...       ...       ...       ...  ...       ...       ...   \n",
            "284802 -2.606837 -4.918215  7.305334  1.914428  ...  0.213454  0.111864   \n",
            "284803  1.058415  0.024330  0.294869  0.584800  ...  0.214205  0.924384   \n",
            "284804  3.031260 -0.296827  0.708417  0.432454  ...  0.232045  0.578229   \n",
            "284805  0.623708 -0.686180  0.679145  0.392087  ...  0.265245  0.800049   \n",
            "284806 -0.649617  1.577006 -0.414650  0.486180  ...  0.261057  0.643078   \n",
            "\n",
            "             V23       V24       V25       V26       V27       V28  Amount  \\\n",
            "0      -0.110474  0.066928  0.128539 -0.189115  0.133558 -0.021053  149.62   \n",
            "1       0.101288 -0.339846  0.167170  0.125895 -0.008983  0.014724    2.69   \n",
            "2       0.909412 -0.689281 -0.327642 -0.139097 -0.055353 -0.059752  378.66   \n",
            "3      -0.190321 -1.175575  0.647376 -0.221929  0.062723  0.061458  123.50   \n",
            "4      -0.137458  0.141267 -0.206010  0.502292  0.219422  0.215153   69.99   \n",
            "...          ...       ...       ...       ...       ...       ...     ...   \n",
            "284802  1.014480 -0.509348  1.436807  0.250034  0.943651  0.823731    0.77   \n",
            "284803  0.012463 -1.016226 -0.606624 -0.395255  0.068472 -0.053527   24.79   \n",
            "284804 -0.037501  0.640134  0.265745 -0.087371  0.004455 -0.026561   67.88   \n",
            "284805 -0.163298  0.123205 -0.569159  0.546668  0.108821  0.104533   10.00   \n",
            "284806  0.376777  0.008797 -0.473649 -0.818267 -0.002415  0.013649  217.00   \n",
            "\n",
            "        Class  \n",
            "0           0  \n",
            "1           0  \n",
            "2           0  \n",
            "3           0  \n",
            "4           0  \n",
            "...       ...  \n",
            "284802      0  \n",
            "284803      0  \n",
            "284804      0  \n",
            "284805      0  \n",
            "284806      0  \n",
            "\n",
            "[284807 rows x 31 columns]\n"
          ]
        }
      ],
      "source": [
        "from sklearn.ensemble import AdaBoostClassifier, RandomForestClassifier, StackingClassifier\n",
        "from sklearn.neighbors import KNeighborsClassifier, KNeighborsRegressor\n",
        "from sklearn.tree import DecisionTreeClassifier\n",
        "from sklearn.model_selection import train_test_split\n",
        "from sklearn.datasets import load_iris, load_wine, load_breast_cancer\n",
        "from sklearn.metrics import confusion_matrix, plot_confusion_matrix, roc_auc_score\n",
        "from sklearn.linear_model import LogisticRegression, RidgeCV, LassoCV\n",
        "from sklearn.svm import SVC\n",
        "from sklearn.gaussian_process import GaussianProcessClassifier\n",
        "from sklearn.naive_bayes import GaussianNB\n",
        "from sklearn.neural_network import MLPClassifier\n",
        "from sklearn.ensemble import GradientBoostingClassifier\n",
        "from sklearn.metrics import precision_score, recall_score, f1_score\n",
        "from sklearn.gaussian_process.kernels import RBF\n",
        "import pandas as pd\n",
        "import matplotlib.pyplot as plt\n",
        "import xgboost as xgb\n",
        "\n",
        "rstate = 1\n",
        "\n",
        "def load_creditcard():\n",
        "    df = pd.read_csv(data_path)\n",
        "    return df\n",
        "\n",
        "data = load_creditcard()\n",
        "print(data)"
      ]
    },
    {
      "cell_type": "code",
      "execution_count": 4,
      "metadata": {
        "id": "AZlGTrA7UnJb"
      },
      "outputs": [],
      "source": [
        "## SELECTING HALF OF THE DATA\n",
        "x, y = data.loc[:, ~data.columns.isin(['Class', 'Time'])], data['Class']\n",
        "\n",
        "x_half, x_to_ignore, y_half, y_to_ignore = train_test_split(x, y, random_state=rstate, test_size=0.5)\n",
        "# print(\"ratio smaller dataset: \\n\", y_to_use.value_counts())\n",
        "x_half_train, x_half_test, y_half_train, y_half_test = train_test_split(x_half, y_half, random_state=rstate)\n",
        "# print(x_train)"
      ]
    },
    {
      "cell_type": "code",
      "execution_count": 12,
      "metadata": {
        "colab": {
          "base_uri": "https://localhost:8080/"
        },
        "id": "J9oy3C8tT_Uy",
        "outputId": "a6146245-729d-4d24-fec4-36d6f9139aec"
      },
      "outputs": [
        {
          "name": "stdout",
          "output_type": "stream",
          "text": [
            "half data malicious ratio: 492:284315\n",
            "undersampled malicious ratio: 492:492\n"
          ]
        }
      ],
      "source": [
        "## UNDERSAMPLING\n",
        "\n",
        "# Split the data based on whether it is malicious or not.\n",
        "data_malicious = data.loc[data['Class'] == 1]\n",
        "data_safe = data.loc[data['Class'] == 0]\n",
        "print(f\"half data malicious ratio: {data_malicious.shape[0]}:{data_safe.shape[0]}\")\n",
        "# print(data_malicious, data_safe)\n",
        "\n",
        "data_safe_undersampled = data_safe.sample(n=data_malicious.shape[0], random_state = rstate)\n",
        "# print(dsu)\n",
        "data_undersampled = pd.concat([data_malicious, data_safe_undersampled], axis = 0)\n",
        "print(f\"undersampled malicious ratio: {data_malicious.shape[0]}:{data_safe_undersampled.shape[0]}\")\n",
        "# print(undersampled)\n",
        "\n",
        "x_us, y_us = data_undersampled.loc[:, ~data_undersampled.columns.isin(['Class', 'Time'])], data_undersampled['Class']\n",
        "x_us_train, x_us_test, y_us_train, y_us_test = train_test_split(x_us, y_us, random_state=rstate)\n"
      ]
    },
    {
      "cell_type": "code",
      "execution_count": 14,
      "metadata": {
        "colab": {
          "base_uri": "https://localhost:8080/"
        },
        "id": "zHwdlzmIX6M-",
        "outputId": "62d92062-13b0-42ad-ea2e-38b62f14c639"
      },
      "outputs": [
        {
          "name": "stdout",
          "output_type": "stream",
          "text": [
            "small dataset malicious ratio = 20:964\n"
          ]
        }
      ],
      "source": [
        "## SMALL DATASET WITH SAME RATIO\n",
        "small_ds_size = data_undersampled.shape[0]\n",
        "malicious_number = 20\n",
        "\n",
        "mal_entries = data[data['Class'] == 1].sample(n = malicious_number, random_state=rstate)\n",
        "safe_entries = data[data['Class'] == 0].sample((small_ds_size - malicious_number), random_state=rstate)\n",
        "data_small = pd.concat([mal_entries, safe_entries], axis = 0)\n",
        "print(f\"small dataset malicious ratio = {len(data_small[data_small['Class']==1])}:{len(data_small[data_small['Class']==0])}\")\n",
        "\n",
        "x_small, y_small = data_small.loc[:, ~data_small.columns.isin(['Class', 'Time'])], data_small['Class']\n",
        "x_small_train, x_small_test, y_small_train, y_small_test = train_test_split(x_small, y_small, random_state=rstate)"
      ]
    },
    {
      "cell_type": "code",
      "execution_count": 7,
      "metadata": {
        "id": "M_NgKSjBE9Vr"
      },
      "outputs": [],
      "source": [
        "def tree():\n",
        "    clf1 = DecisionTreeClassifier(random_state=rstate)\n",
        "    clf1.fit(x_train, y_train)\n",
        "    return clf1.score(x_test, y_test)\n",
        "\n",
        "def adaBoost(estimators, tree_depth):\n",
        "    clf2 = AdaBoostClassifier(n_estimators= estimators, base_estimator=DecisionTreeClassifier(max_depth=tree_depth))\n",
        "    clf2.fit(x_train, y_train)\n",
        "\n",
        "    prediction = clf2.predict(x_test)\n",
        "    # plot_confusion_matrix(confusion_matrix(prediction, y_test))\n",
        "    # tn, fp, fn, tp\n",
        "    print(confusion_matrix(prediction, y_test).ravel())\n",
        "    roc = roc_auc_score(y_test, prediction)\n",
        "    print(roc)\n",
        "    # score = clf2.score(x_test, y_test) \n",
        "    # confusion_matrix()\n",
        "    # print(score)\n",
        "    return roc\n",
        "\n",
        "def stacking():\n",
        "    estimators = [('ridge', DecisionTreeClassifier()), (\"kn\", KNeighborsClassifier())]\n",
        "    # for i in range(estimators):\n",
        "    #     learners.append((str(i), DecisionTreeClassifier()))\n",
        "    clf = StackingClassifier(estimators=estimators, stack_method=\"auto\", final_estimator=LogisticRegression())\n",
        "    print(\"hohihioho\")\n",
        "    clf.fit(x_train, y_train)\n",
        "    print(\"hohihioho2\")\n",
        "    prediction = clf.predict(x_test)\n",
        "    # tn, fp, fn, tp\n",
        "    print(confusion_matrix(prediction, y_test).ravel())\n",
        "    roc = roc_auc_score(y_test, prediction)\n",
        "    print(roc)\n",
        "    return roc\n",
        "\n",
        "def plot_accuracy_n_estimators():\n",
        "    estimators = [x for x in range(1,21)]\n",
        "    scores = []\n",
        "    for e in estimators:\n",
        "        scores.append(adaBoost(e, None))\n",
        "\n",
        "    plt.plot(estimators, scores, label = \"AdaBoost\")\n",
        "    # plt.plot(estimators, [tree()]*len(scores), label = \"Decision Tree\")\n",
        "    plt.xlabel(\"Number of Estimators for AdaBoost\")\n",
        "    plt.ylabel(\"ROC AUC\")\n",
        "    plt.legend()\n",
        "    plt.show()\n",
        "\n",
        "def plot_ROC_AUC_Stacking():\n",
        "    learners = [2] # Number of Learners\n",
        "    scores = []\n",
        "    scores.append(stacking())\n",
        "\n",
        "    plt.plot(learners, scores, label = \"Stacking\")\n",
        "    # plt.plot(estimators, [tree()]*len(scores), label = \"Decision Tree\")\n",
        "    plt.xlabel(\"Number of learners for Stacking\")\n",
        "    plt.ylabel(\"ROC AUC\")\n",
        "    plt.legend()\n",
        "    plt.show()\n",
        "\n",
        "# def plot_accuracy_depth_estimators():\n",
        "#     depths = [x for x in range(1,101)]\n",
        "#     scores = []\n",
        "#     for d in depths:\n",
        "#         scores.append(adaBoost(50, d))\n",
        "\n",
        "#     plt.plot(depths, scores, label = \"AdaBoost\")\n",
        "#     plt.plot(depths, [tree()]*len(scores), label = \"Decision Tree\")\n",
        "#     plt.xlabel(\"Allowed tree depth of estimators\")\n",
        "#     plt.ylabel(\"Accuracy Score\")\n",
        "#     plt.legend()\n",
        "#     plt.show()\n",
        "\n",
        "# plot_accuracy_depth_estimators()\n",
        "# plot_accuracy_n_estimators()\n",
        "# plot_ROC_AUC_Stacking()"
      ]
    },
    {
      "cell_type": "code",
      "execution_count": 8,
      "metadata": {
        "id": "imdy3E91DFVS"
      },
      "outputs": [],
      "source": [
        "names = [\n",
        "    \"KNeighbours\",\n",
        "    \"Linear SVM\",\n",
        "    \"Decision Tree\",\n",
        "    \"Random Forest\",\n",
        "    \"Neural Net MLP\",\n",
        "    \"AdaBoost\",\n",
        "    \"Naive Bayes\",\n",
        "    \"Gradiant Boost\",\n",
        "    \"XGBoost\"\n",
        "]\n",
        "\n",
        "classifiers = [\n",
        "    KNeighborsClassifier(3),\n",
        "    SVC(kernel=\"linear\", C=0.025),\n",
        "    DecisionTreeClassifier(max_depth=5),\n",
        "    RandomForestClassifier(max_depth=5, n_estimators=10, max_features=1),\n",
        "    MLPClassifier(alpha=1, max_iter=1000),\n",
        "    AdaBoostClassifier(),\n",
        "    GaussianNB(),\n",
        "    GradientBoostingClassifier(n_estimators=10,max_depth=5),\n",
        "    xgb.XGBClassifier(objective ='reg:squarederror', colsample_bytree = 1, learning_rate = 0.3, max_depth = 6, alpha = 0 )\n",
        "]\n",
        "\n",
        "\n",
        "def runClassifier(x_train, y_train, x_test, y_test):\n",
        "    latex = \"\"\n",
        "    for name, clf in zip(names, classifiers):\n",
        "        # ax = plt.subplot(len(datasets), len(classifiers) + 1, i)\n",
        "        clf.fit(x_train, y_train)\n",
        "        prediction = clf.predict(x_test)\n",
        "        precision = precision_score(y_test, prediction, average=None)\n",
        "        recall = recall_score(y_test, prediction, average=None) \n",
        "        fmeasure = f1_score(y_test, prediction, average=None)\n",
        "\n",
        "        print(f\"==={name}===\")\n",
        "        print(confusion_matrix(prediction, y_test).ravel())\n",
        "        roc = roc_auc_score(y_test, prediction)\n",
        "        print(roc)\n",
        "        print(\"Precision: \", precision )\n",
        "        print(\"Recall: \", recall)\n",
        "        print(\"F-measure\", fmeasure )\n",
        "        string = f\"{name} & {format(roc, '.3f')} & {format(precision[1], '.3f')} & {format(recall[1], '.3f')} & {format(fmeasure[1], '.3f')}\"\n",
        "        latex += f\"\\t \\hline \\n \\t {string} \\\\\\ \\n\"\n",
        "    latex += \"\\t \\hline\"\n",
        "    print(latex)"
      ]
    },
    {
      "cell_type": "code",
      "execution_count": null,
      "metadata": {
        "colab": {
          "base_uri": "https://localhost:8080/",
          "height": 689
        },
        "id": "PYfzRnMFbEec",
        "outputId": "47a6f4b5-87d2-4bbc-92f0-9139700a5d4e"
      },
      "outputs": [],
      "source": [
        "## ==== CODE THAT GIVES RESULTS =====\n",
        "print(\"=== HALF DATASET ===\")\n",
        "runClassifier(x_half_train, y_half_train, x_half_test, y_half_test) #half data\n",
        "print(\"=== UNDERSAMPING ===\")\n",
        "runClassifier(x_us_train, y_us_train, x_us_test, y_us_test)\n",
        "print(\"=== SMALL DATASET ===\")\n",
        "runClassifier(x_small_train, y_small_train, x_small_test, y_small_test)\n"
      ]
    }
  ],
  "metadata": {
    "colab": {
      "collapsed_sections": [],
      "name": "Naco_project.ipynb",
      "provenance": []
    },
    "kernelspec": {
      "display_name": "Python 3",
      "name": "python3"
    },
    "language_info": {
      "codemirror_mode": {
        "name": "ipython",
        "version": 3
      },
      "file_extension": ".py",
      "mimetype": "text/x-python",
      "name": "python",
      "nbconvert_exporter": "python",
      "pygments_lexer": "ipython3",
      "version": "3.8.10"
    }
  },
  "nbformat": 4,
  "nbformat_minor": 0
}
