{
  "cells": [
    {
      "cell_type": "markdown",
      "metadata": {
        "id": "ayaI9c32YMOv"
      },
      "source": [
        "# Helper functions"
      ]
    },
    {
      "cell_type": "code",
      "execution_count": null,
      "metadata": {
        "id": "CM2QX45uYQQa"
      },
      "outputs": [],
      "source": [
        "def printStats(y_test, prediction):\n",
        "  roc = roc_auc_score(y_test, prediction)\n",
        "  precision = precision_score(y_test, prediction, average=None)\n",
        "  recall = recall_score(y_test, prediction, average=None)\n",
        "  fmeasure = f1_score(y_test, prediction, average=None)\n",
        "\n",
        "  ConfusionMatrixDisplay.from_predictions(y_test, prediction)\n",
        "  print(confusion_matrix(prediction, y_test).ravel())\n",
        "  print(\"ROC \" + str(roc))\n",
        "  print(\"Precision: \" + str(precision))\n",
        "  print(\"Recall: \" + str(recall))\n",
        "  print(\"F1-Score: \" + str(fmeasure)) "
      ]
    },
    {
      "cell_type": "markdown",
      "metadata": {
        "id": "pp0oZBq44LJn"
      },
      "source": [
        "# Load Data"
      ]
    },
    {
      "cell_type": "code",
      "execution_count": 1,
      "metadata": {
        "colab": {
          "base_uri": "https://localhost:8080/"
        },
        "id": "bpOWB7t24M2O",
        "outputId": "bc394bbf-3fb5-4a5a-91a1-432576f7dd53"
      },
      "outputs": [],
      "source": [
        "data_path = './creditcard.csv'"
      ]
    },
    {
      "cell_type": "code",
      "execution_count": 3,
      "metadata": {
        "id": "RQVPB5li4PMz"
      },
      "outputs": [],
      "source": [
        "import pandas as pd\n",
        "\n",
        "def load_creditcard():\n",
        "    df = pd.read_csv(data_path)\n",
        "    return df\n",
        "\n",
        "data = load_creditcard()"
      ]
    },
    {
      "cell_type": "markdown",
      "metadata": {},
      "source": [
        "## Half dataset"
      ]
    },
    {
      "cell_type": "code",
      "execution_count": 4,
      "metadata": {
        "id": "RA8-zXFs4roM"
      },
      "outputs": [],
      "source": [
        "from sklearn.model_selection import train_test_split\n",
        "\n",
        "rstate = 1\n",
        "\n",
        "x3, y3 = data.loc[:, ~data.columns.isin(['Class', 'Time'])], data['Class']\n",
        "x_to_use, x_to_ignore, y_to_use, y_to_ignore = train_test_split(x3, y3, random_state=rstate, test_size=0.5)\n",
        "x_train, x_test, y_train, y_test = train_test_split(x_to_use, y_to_use, random_state=rstate)"
      ]
    },
    {
      "cell_type": "markdown",
      "metadata": {
        "id": "EPDoTm3UbeR3"
      },
      "source": [
        "## Undersampling data"
      ]
    },
    {
      "cell_type": "code",
      "execution_count": 5,
      "metadata": {
        "colab": {
          "base_uri": "https://localhost:8080/"
        },
        "id": "Y8udCTuLbgCl",
        "outputId": "c5caf8f5-eece-4cca-f772-c3341dba9fdf"
      },
      "outputs": [],
      "source": [
        "# Split the data based on whether it is malicious or not.\n",
        "data_malicious = data.loc[data['Class'] == 1]\n",
        "data_safe = data.loc[data['Class'] == 0]\n",
        "# print(data_malicious, data_safe)\n",
        "# print(data_malicious.shape[0])\n",
        "\n",
        "data_safe_undersampled = data_safe.sample(n=data_malicious.shape[0], random_state = rstate)\n",
        "data_undersampled = pd.concat([data_malicious, data_safe_undersampled], axis = 0)\n",
        "\n",
        "x_us, y_us = data_undersampled.loc[:, ~data_undersampled.columns.isin(['Class', 'Time'])], data_undersampled['Class']\n",
        "x_us_train, x_us_test, y_us_train, y_us_test = train_test_split(x_us, y_us, random_state=rstate)\n"
      ]
    },
    {
      "cell_type": "markdown",
      "metadata": {
        "id": "5vAGLaBkeOsa"
      },
      "source": [
        "## Small dataset with same ratio"
      ]
    },
    {
      "cell_type": "code",
      "execution_count": 6,
      "metadata": {
        "colab": {
          "base_uri": "https://localhost:8080/"
        },
        "id": "mkZE_VDleL6L",
        "outputId": "c0c7ffdc-94ec-43f7-aaac-4e7395e2ae29"
      },
      "outputs": [],
      "source": [
        "small_ds_size = data_undersampled.shape[0]\n",
        "malicious_number = 20\n",
        "\n",
        "mal_entries = data[data['Class'] == 1].sample(n = malicious_number, random_state=rstate)\n",
        "safe_entries = data[data['Class'] == 0].sample((small_ds_size - malicious_number), random_state=rstate)\n",
        "data_small = pd.concat([mal_entries, safe_entries], axis = 0)\n",
        "# print(\"malicious ratio = \", len(data_small[data_small['Class']==1]))\n",
        "\n",
        "x_small, y_small = data_small.loc[:, ~data_small.columns.isin(['Class', 'Time'])], data_small['Class']\n",
        "x_small_train, x_small_test, y_small_train, y_small_test = train_test_split(x_small, y_small, random_state=rstate)"
      ]
    },
    {
      "cell_type": "markdown",
      "metadata": {
        "id": "To17FMtV4NdV"
      },
      "source": [
        "# Classifiers"
      ]
    },
    {
      "cell_type": "code",
      "execution_count": null,
      "metadata": {
        "id": "P0TKRbS72TlF"
      },
      "outputs": [],
      "source": [
        "from sklearn.ensemble import AdaBoostClassifier, RandomForestClassifier, StackingClassifier\n",
        "from sklearn.neighbors import KNeighborsClassifier, KNeighborsRegressor\n",
        "from sklearn.tree import DecisionTreeClassifier\n",
        "from sklearn.neural_network import MLPClassifier\n",
        "from sklearn.svm import SVC\n",
        "from sklearn.naive_bayes import GaussianNB\n",
        "from sklearn.linear_model import LogisticRegression\n",
        "from sklearn.ensemble import GradientBoostingClassifier\n",
        "import xgboost as xgb\n"
      ]
    },
    {
      "cell_type": "code",
      "execution_count": null,
      "metadata": {
        "id": "Y04miqzr6YuO"
      },
      "outputs": [],
      "source": [
        "from sklearn.metrics import confusion_matrix, plot_confusion_matrix, roc_auc_score\n",
        "from sklearn.metrics import precision_score, recall_score, f1_score\n",
        "from sklearn.metrics import ConfusionMatrixDisplay\n"
      ]
    },
    {
      "cell_type": "markdown",
      "metadata": {
        "id": "ZoZSlahEz8j-"
      },
      "source": [
        "## Ensemble 1\n",
        "* Neural Net MLP\n",
        "* K-Neighbours\n",
        "* Linear SVM\n",
        "* Decision Tree\n",
        "\n"
      ]
    },
    {
      "cell_type": "code",
      "execution_count": null,
      "metadata": {
        "id": "UZnY8uvszrKV"
      },
      "outputs": [],
      "source": [
        "estimators1 = [\n",
        "  ('mlp', MLPClassifier(alpha=1, max_iter=1000)),\n",
        "  (\"kn\", KNeighborsClassifier()),\n",
        "  (\"lsvm\", SVC(kernel=\"linear\", C=0.025)),\n",
        "  ('dtc', DecisionTreeClassifier(max_depth=5)), \n",
        "]"
      ]
    },
    {
      "cell_type": "code",
      "execution_count": null,
      "metadata": {
        "colab": {
          "base_uri": "https://localhost:8080/"
        },
        "id": "woTtk2gepSj6",
        "outputId": "10974438-3a9c-41ce-c5d6-9410f613efb2"
      },
      "outputs": [
        {
          "data": {
            "text/plain": [
              "StackingClassifier(estimators=[('mlp', MLPClassifier(alpha=1, max_iter=1000)),\n",
              "                               ('kn', KNeighborsClassifier()),\n",
              "                               ('lsvm', SVC(C=0.025, kernel='linear')),\n",
              "                               ('dtc', DecisionTreeClassifier(max_depth=5))],\n",
              "                   final_estimator=LogisticRegression())"
            ]
          },
          "execution_count": 94,
          "metadata": {},
          "output_type": "execute_result"
        }
      ],
      "source": [
        "clf1 = StackingClassifier(estimators=estimators1, stack_method=\"auto\", final_estimator=LogisticRegression())\n",
        "clf1.fit(x_train, y_train)"
      ]
    },
    {
      "cell_type": "code",
      "execution_count": null,
      "metadata": {
        "colab": {
          "base_uri": "https://localhost:8080/"
        },
        "id": "-yKDlV19mhXS",
        "outputId": "7e5e66a1-81ff-482f-c21b-a055adae6892"
      },
      "outputs": [
        {
          "data": {
            "text/plain": [
              "StackingClassifier(estimators=[('mlp', MLPClassifier(alpha=1, max_iter=1000)),\n",
              "                               ('kn', KNeighborsClassifier()),\n",
              "                               ('lsvm', SVC(C=0.025, kernel='linear')),\n",
              "                               ('dtc', DecisionTreeClassifier(max_depth=5))],\n",
              "                   final_estimator=LogisticRegression())"
            ]
          },
          "execution_count": 95,
          "metadata": {},
          "output_type": "execute_result"
        }
      ],
      "source": [
        "clf1_us = StackingClassifier(estimators=estimators1, stack_method=\"auto\", final_estimator=LogisticRegression())\n",
        "clf1_us.fit(x_us_train, y_us_train)"
      ]
    },
    {
      "cell_type": "code",
      "execution_count": null,
      "metadata": {
        "colab": {
          "base_uri": "https://localhost:8080/"
        },
        "id": "v9dJYolemirS",
        "outputId": "939e0cf8-8ed8-41fb-8a83-32c7aeed7051"
      },
      "outputs": [
        {
          "data": {
            "text/plain": [
              "StackingClassifier(estimators=[('mlp', MLPClassifier(alpha=1, max_iter=1000)),\n",
              "                               ('kn', KNeighborsClassifier()),\n",
              "                               ('lsvm', SVC(C=0.025, kernel='linear')),\n",
              "                               ('dtc', DecisionTreeClassifier(max_depth=5))],\n",
              "                   final_estimator=LogisticRegression())"
            ]
          },
          "execution_count": 96,
          "metadata": {},
          "output_type": "execute_result"
        }
      ],
      "source": [
        "clf1_small = StackingClassifier(estimators=estimators1, stack_method=\"auto\", final_estimator=LogisticRegression())\n",
        "clf1_small.fit(x_small_train, y_small_train)"
      ]
    },
    {
      "cell_type": "code",
      "execution_count": null,
      "metadata": {
        "id": "SZzBygeArWEA"
      },
      "outputs": [],
      "source": [
        "predClf1 = clf1.predict(x_test)\n",
        "predClf1Us = clf1_us.predict(x_us_test)\n",
        "predClf1Small = clf1_small.predict(x_small_test)"
      ]
    },
    {
      "cell_type": "code",
      "execution_count": null,
      "metadata": {
        "colab": {
          "base_uri": "https://localhost:8080/",
          "height": 372
        },
        "id": "Yw8lWFmqrtBN",
        "outputId": "ed2c1712-3456-47c4-dd28-5ccfdd7f1611"
      },
      "outputs": [
        {
          "name": "stdout",
          "output_type": "stream",
          "text": [
            "[35536    10     8    47]\n",
            "ROC 0.9121681651799992\n",
            "Precision: [0.99971867 0.85454545]\n",
            "Recall: [0.99977493 0.8245614 ]\n",
            "F1-Score: [0.9997468  0.83928571]\n"
          ]
        },
        {
          "data": {
            "image/png": "[encoded data removed]",
            "text/plain": [
              "<Figure size 432x288 with 2 Axes>"
            ]
          },
          "metadata": {
            "needs_background": "light"
          },
          "output_type": "display_data"
        }
      ],
      "source": [
        "printStats(y_test, predClf1)"
      ]
    },
    {
      "cell_type": "code",
      "execution_count": null,
      "metadata": {
        "colab": {
          "base_uri": "https://localhost:8080/",
          "height": 371
        },
        "id": "VlWwzKNirw5r",
        "outputId": "bcf945c3-dd1b-4a39-9769-72e18822b596"
      },
      "outputs": [
        {
          "name": "stdout",
          "output_type": "stream",
          "text": [
            "[129   9   3 105]\n",
            "ROC 0.9491626794258373\n",
            "Precision: [0.93478261 0.97222222]\n",
            "Recall: [0.97727273 0.92105263]\n",
            "F1-Score: [0.95555556 0.94594595]\n"
          ]
        },
        {
          "data": {
            "image/png": "[encoded data removed]",
            "text/plain": [
              "<Figure size 432x288 with 2 Axes>"
            ]
          },
          "metadata": {
            "needs_background": "light"
          },
          "output_type": "display_data"
        }
      ],
      "source": [
        "printStats(y_us_test, predClf1Us)"
      ]
    },
    {
      "cell_type": "code",
      "execution_count": null,
      "metadata": {
        "colab": {
          "base_uri": "https://localhost:8080/",
          "height": 371
        },
        "id": "w01MzmrIrxI2",
        "outputId": "2035bb61-8ebb-4814-88fa-62f6f908ecdf"
      },
      "outputs": [
        {
          "name": "stdout",
          "output_type": "stream",
          "text": [
            "[238   2   0   6]\n",
            "ROC 0.875\n",
            "Precision: [0.99166667 1.        ]\n",
            "Recall: [1.   0.75]\n",
            "F1-Score: [0.9958159  0.85714286]\n"
          ]
        },
        {
          "data": {
            "image/png": "[encoded data removed]",
            "text/plain": [
              "<Figure size 432x288 with 2 Axes>"
            ]
          },
          "metadata": {
            "needs_background": "light"
          },
          "output_type": "display_data"
        }
      ],
      "source": [
        "printStats(y_small_test, predClf1Small)"
      ]
    },
    {
      "cell_type": "markdown",
      "metadata": {
        "id": "FSgiUSXg2E3R"
      },
      "source": [
        "## Ensemble 2\n",
        "\n",
        "* Neural Net MLP\n",
        "* KNeighbours\n",
        "* Linear SVM\n",
        "* Decision Tree\n",
        "* Naive Bayes"
      ]
    },
    {
      "cell_type": "code",
      "execution_count": null,
      "metadata": {
        "id": "If4EzpGi2JXP"
      },
      "outputs": [],
      "source": [
        "estimators2 = [\n",
        "  ('mlp', MLPClassifier(alpha=1, max_iter=1000)),\n",
        "  (\"kn\", KNeighborsClassifier()),\n",
        "  (\"lsvm\", SVC(kernel=\"linear\", C=0.025)),\n",
        "  ('dtc', DecisionTreeClassifier(max_depth=5)), \n",
        "  (\"nb\", GaussianNB())\n",
        "]\n"
      ]
    },
    {
      "cell_type": "code",
      "execution_count": null,
      "metadata": {
        "colab": {
          "base_uri": "https://localhost:8080/"
        },
        "id": "zyjqejnUpXf1",
        "outputId": "d3e4000b-099e-45c0-843b-0d87eee4ad77"
      },
      "outputs": [
        {
          "data": {
            "text/plain": [
              "StackingClassifier(estimators=[('mlp', MLPClassifier(alpha=1, max_iter=1000)),\n",
              "                               ('kn', KNeighborsClassifier()),\n",
              "                               ('lsvm', SVC(C=0.025, kernel='linear')),\n",
              "                               ('dtc', DecisionTreeClassifier(max_depth=5)),\n",
              "                               ('nb', GaussianNB())],\n",
              "                   final_estimator=LogisticRegression())"
            ]
          },
          "execution_count": 103,
          "metadata": {},
          "output_type": "execute_result"
        }
      ],
      "source": [
        "clf2 = StackingClassifier(estimators=estimators2, stack_method=\"auto\", final_estimator=LogisticRegression())\n",
        "clf2.fit(x_train, y_train)"
      ]
    },
    {
      "cell_type": "code",
      "execution_count": null,
      "metadata": {
        "colab": {
          "base_uri": "https://localhost:8080/"
        },
        "id": "t51S32F6s0K3",
        "outputId": "d7e38971-8190-4e6a-d1e7-7ce3facbb546"
      },
      "outputs": [
        {
          "data": {
            "text/plain": [
              "StackingClassifier(estimators=[('mlp', MLPClassifier(alpha=1, max_iter=1000)),\n",
              "                               ('kn', KNeighborsClassifier()),\n",
              "                               ('lsvm', SVC(C=0.025, kernel='linear')),\n",
              "                               ('dtc', DecisionTreeClassifier(max_depth=5)),\n",
              "                               ('nb', GaussianNB())],\n",
              "                   final_estimator=LogisticRegression())"
            ]
          },
          "execution_count": 104,
          "metadata": {},
          "output_type": "execute_result"
        }
      ],
      "source": [
        "clf2_us = StackingClassifier(estimators=estimators2, stack_method=\"auto\", final_estimator=LogisticRegression())\n",
        "clf2_us.fit(x_us_train, y_us_train)"
      ]
    },
    {
      "cell_type": "code",
      "execution_count": null,
      "metadata": {
        "colab": {
          "base_uri": "https://localhost:8080/"
        },
        "id": "MOYXriAJs3gb",
        "outputId": "16548454-e570-409c-e84b-6c70af78039f"
      },
      "outputs": [
        {
          "data": {
            "text/plain": [
              "StackingClassifier(estimators=[('mlp', MLPClassifier(alpha=1, max_iter=1000)),\n",
              "                               ('kn', KNeighborsClassifier()),\n",
              "                               ('lsvm', SVC(C=0.025, kernel='linear')),\n",
              "                               ('dtc', DecisionTreeClassifier(max_depth=5)),\n",
              "                               ('nb', GaussianNB())],\n",
              "                   final_estimator=LogisticRegression())"
            ]
          },
          "execution_count": 105,
          "metadata": {},
          "output_type": "execute_result"
        }
      ],
      "source": [
        "clf2_small = StackingClassifier(estimators=estimators2, stack_method=\"auto\", final_estimator=LogisticRegression())\n",
        "clf2_small.fit(x_small_train, y_small_train)"
      ]
    },
    {
      "cell_type": "code",
      "execution_count": null,
      "metadata": {
        "id": "LewwzQ7uzrRK"
      },
      "outputs": [],
      "source": [
        "predClf2 = clf2.predict(x_test)\n",
        "predClf2Us = clf2_us.predict(x_us_test)\n",
        "predClf2Small = clf2_small.predict(x_small_test)"
      ]
    },
    {
      "cell_type": "code",
      "execution_count": null,
      "metadata": {
        "colab": {
          "base_uri": "https://localhost:8080/",
          "height": 372
        },
        "id": "N6p5yI6Rx6hR",
        "outputId": "b91cf3b6-edb7-4a75-c36c-f74345a1e295"
      },
      "outputs": [
        {
          "name": "stdout",
          "output_type": "stream",
          "text": [
            "[35537    10     7    47]\n",
            "ROC 0.9121822322517976\n",
            "Precision: [0.99971868 0.87037037]\n",
            "Recall: [0.99980306 0.8245614 ]\n",
            "F1-Score: [0.99976087 0.84684685]\n"
          ]
        },
        {
          "data": {
            "image/png": "[encoded data removed]",
            "text/plain": [
              "<Figure size 432x288 with 2 Axes>"
            ]
          },
          "metadata": {
            "needs_background": "light"
          },
          "output_type": "display_data"
        }
      ],
      "source": [
        "printStats(y_test, predClf2)"
      ]
    },
    {
      "cell_type": "code",
      "execution_count": null,
      "metadata": {
        "colab": {
          "base_uri": "https://localhost:8080/",
          "height": 371
        },
        "id": "Szt7IWRsx8xz",
        "outputId": "72b4b5c9-135f-42e3-ade2-289102a79965"
      },
      "outputs": [
        {
          "name": "stdout",
          "output_type": "stream",
          "text": [
            "[129   9   3 105]\n",
            "ROC 0.9491626794258373\n",
            "Precision: [0.93478261 0.97222222]\n",
            "Recall: [0.97727273 0.92105263]\n",
            "F1-Score: [0.95555556 0.94594595]\n"
          ]
        },
        {
          "data": {
            "image/png": "[encoded data removed]",
            "text/plain": [
              "<Figure size 432x288 with 2 Axes>"
            ]
          },
          "metadata": {
            "needs_background": "light"
          },
          "output_type": "display_data"
        }
      ],
      "source": [
        "printStats(y_us_test, predClf2Us)"
      ]
    },
    {
      "cell_type": "code",
      "execution_count": null,
      "metadata": {
        "colab": {
          "base_uri": "https://localhost:8080/",
          "height": 371
        },
        "id": "zgncxuzex83_",
        "outputId": "921e8d4b-7714-46c6-8e1c-6769007f7f92"
      },
      "outputs": [
        {
          "name": "stdout",
          "output_type": "stream",
          "text": [
            "[238   2   0   6]\n",
            "ROC 0.875\n",
            "Precision: [0.99166667 1.        ]\n",
            "Recall: [1.   0.75]\n",
            "F1-Score: [0.9958159  0.85714286]\n"
          ]
        },
        {
          "data": {
            "image/png": "[encoded data removed]",
            "text/plain": [
              "<Figure size 432x288 with 2 Axes>"
            ]
          },
          "metadata": {
            "needs_background": "light"
          },
          "output_type": "display_data"
        }
      ],
      "source": [
        "printStats(y_small_test, predClf2Small)"
      ]
    },
    {
      "cell_type": "markdown",
      "metadata": {
        "id": "mSEWdYlH7J31"
      },
      "source": [
        "## Ensemble 3\n",
        "* AdaBoost\n",
        "* Random Forest\n",
        "* XG Boost\n",
        "* KNeighbours"
      ]
    },
    {
      "cell_type": "code",
      "execution_count": null,
      "metadata": {
        "id": "eZyihd-k7Mv9"
      },
      "outputs": [],
      "source": [
        "estimators3 = [\n",
        "  ('ada', AdaBoostClassifier(n_estimators=7, base_estimator=DecisionTreeClassifier(max_depth=5))),\n",
        "  ('rf', RandomForestClassifier(max_depth=5, n_estimators=10, max_features=1)),\n",
        "  (\"xgb\", xgb.XGBClassifier(objective ='reg:squarederror', colsample_bytree = 1, learning_rate = 0.3)),\n",
        "  (\"kn\", KNeighborsClassifier())\n",
        "]"
      ]
    },
    {
      "cell_type": "code",
      "execution_count": null,
      "metadata": {
        "colab": {
          "base_uri": "https://localhost:8080/"
        },
        "id": "1TwPqrGQ5FlH",
        "outputId": "fb9fae1e-0cc6-4df9-dde4-595bc14f2cf0"
      },
      "outputs": [
        {
          "data": {
            "text/plain": [
              "StackingClassifier(estimators=[('ada',\n",
              "                                AdaBoostClassifier(base_estimator=DecisionTreeClassifier(max_depth=5),\n",
              "                                                   n_estimators=7)),\n",
              "                               ('rf',\n",
              "                                RandomForestClassifier(max_depth=5,\n",
              "                                                       max_features=1,\n",
              "                                                       n_estimators=10)),\n",
              "                               ('xgb',\n",
              "                                XGBClassifier(learning_rate=0.3,\n",
              "                                              objective='reg:squarederror')),\n",
              "                               ('kn', KNeighborsClassifier())],\n",
              "                   final_estimator=LogisticRegression())"
            ]
          },
          "execution_count": 112,
          "metadata": {},
          "output_type": "execute_result"
        }
      ],
      "source": [
        "clf3 = StackingClassifier(estimators=estimators3, stack_method=\"auto\", final_estimator=LogisticRegression())\n",
        "clf3.fit(x_train, y_train)"
      ]
    },
    {
      "cell_type": "code",
      "execution_count": null,
      "metadata": {
        "colab": {
          "base_uri": "https://localhost:8080/"
        },
        "id": "_24Fbqghz-2p",
        "outputId": "b813060d-f628-43f5-fdd7-a51af75b6e27"
      },
      "outputs": [
        {
          "data": {
            "text/plain": [
              "StackingClassifier(estimators=[('ada',\n",
              "                                AdaBoostClassifier(base_estimator=DecisionTreeClassifier(max_depth=5),\n",
              "                                                   n_estimators=7)),\n",
              "                               ('rf',\n",
              "                                RandomForestClassifier(max_depth=5,\n",
              "                                                       max_features=1,\n",
              "                                                       n_estimators=10)),\n",
              "                               ('xgb',\n",
              "                                XGBClassifier(learning_rate=0.3,\n",
              "                                              objective='reg:squarederror')),\n",
              "                               ('kn', KNeighborsClassifier())],\n",
              "                   final_estimator=LogisticRegression())"
            ]
          },
          "execution_count": 113,
          "metadata": {},
          "output_type": "execute_result"
        }
      ],
      "source": [
        "clf3_us = StackingClassifier(estimators=estimators3, stack_method=\"auto\", final_estimator=LogisticRegression())\n",
        "clf3_us.fit(x_us_train, y_us_train)"
      ]
    },
    {
      "cell_type": "code",
      "execution_count": null,
      "metadata": {
        "colab": {
          "base_uri": "https://localhost:8080/"
        },
        "id": "GCHdSFYzz_Up",
        "outputId": "2b242816-40d5-43dc-d45f-e63f98dcf101"
      },
      "outputs": [
        {
          "data": {
            "text/plain": [
              "StackingClassifier(estimators=[('ada',\n",
              "                                AdaBoostClassifier(base_estimator=DecisionTreeClassifier(max_depth=5),\n",
              "                                                   n_estimators=7)),\n",
              "                               ('rf',\n",
              "                                RandomForestClassifier(max_depth=5,\n",
              "                                                       max_features=1,\n",
              "                                                       n_estimators=10)),\n",
              "                               ('xgb',\n",
              "                                XGBClassifier(learning_rate=0.3,\n",
              "                                              objective='reg:squarederror')),\n",
              "                               ('kn', KNeighborsClassifier())],\n",
              "                   final_estimator=LogisticRegression())"
            ]
          },
          "execution_count": 114,
          "metadata": {},
          "output_type": "execute_result"
        }
      ],
      "source": [
        "clf3_small = StackingClassifier(estimators=estimators3, stack_method=\"auto\", final_estimator=LogisticRegression())\n",
        "clf3_small.fit(x_small_train, y_small_train)"
      ]
    },
    {
      "cell_type": "code",
      "execution_count": null,
      "metadata": {
        "id": "oq-cnEPC64iG"
      },
      "outputs": [],
      "source": [
        "predClf3 = clf3.predict(x_test)\n",
        "predClf3Us = clf3_us.predict(x_us_test)\n",
        "predClf3Small = clf3_small.predict(x_small_test)"
      ]
    },
    {
      "cell_type": "code",
      "execution_count": null,
      "metadata": {
        "colab": {
          "base_uri": "https://localhost:8080/",
          "height": 372
        },
        "id": "R4ho-uAI2JSw",
        "outputId": "f7461084-0eb5-45b2-d46d-eda4c8cdc489"
      },
      "outputs": [
        {
          "name": "stdout",
          "output_type": "stream",
          "text": [
            "[35543    10     1    47]\n",
            "ROC 0.9122666346825875\n",
            "Precision: [0.99971873 0.97916667]\n",
            "Recall: [0.99997187 0.8245614 ]\n",
            "F1-Score: [0.99984528 0.8952381 ]\n"
          ]
        },
        {
          "data": {
            "image/png": "[encoded data removed]",
            "text/plain": [
              "<Figure size 432x288 with 2 Axes>"
            ]
          },
          "metadata": {
            "needs_background": "light"
          },
          "output_type": "display_data"
        }
      ],
      "source": [
        "printStats(y_test, predClf3)"
      ]
    },
    {
      "cell_type": "code",
      "execution_count": null,
      "metadata": {
        "colab": {
          "base_uri": "https://localhost:8080/",
          "height": 371
        },
        "id": "Nfhsa50M2Q6Z",
        "outputId": "15c3b01f-798b-444e-d6c2-b853b4bed42d"
      },
      "outputs": [
        {
          "name": "stdout",
          "output_type": "stream",
          "text": [
            "[130  12   2 102]\n",
            "ROC 0.9397926634768741\n",
            "Precision: [0.91549296 0.98076923]\n",
            "Recall: [0.98484848 0.89473684]\n",
            "F1-Score: [0.94890511 0.93577982]\n"
          ]
        },
        {
          "data": {
            "image/png": "[encoded data removed]",
            "text/plain": [
              "<Figure size 432x288 with 2 Axes>"
            ]
          },
          "metadata": {
            "needs_background": "light"
          },
          "output_type": "display_data"
        }
      ],
      "source": [
        "printStats(y_us_test, predClf3Us)"
      ]
    },
    {
      "cell_type": "code",
      "execution_count": null,
      "metadata": {
        "colab": {
          "base_uri": "https://localhost:8080/",
          "height": 371
        },
        "id": "K3fiKTtF2RSA",
        "outputId": "03fd5159-418f-4f02-b12a-6f1f8f005aa4"
      },
      "outputs": [
        {
          "name": "stdout",
          "output_type": "stream",
          "text": [
            "[238   4   0   4]\n",
            "ROC 0.75\n",
            "Precision: [0.98347107 1.        ]\n",
            "Recall: [1.  0.5]\n",
            "F1-Score: [0.99166667 0.66666667]\n"
          ]
        },
        {
          "data": {
            "image/png": "[encoded data removed]",
            "text/plain": [
              "<Figure size 432x288 with 2 Axes>"
            ]
          },
          "metadata": {
            "needs_background": "light"
          },
          "output_type": "display_data"
        }
      ],
      "source": [
        "printStats(y_small_test, predClf3Small)"
      ]
    },
    {
      "cell_type": "markdown",
      "metadata": {
        "id": "x9euyqvM7Nbf"
      },
      "source": [
        "## Ensemble 4\n",
        "* AdaBoost\n",
        "* Random Forest\n",
        "* XG Boost\n",
        "* KNeighbours\n",
        "* Naive Bayes"
      ]
    },
    {
      "cell_type": "code",
      "execution_count": null,
      "metadata": {
        "id": "45aOcRjW7Qy5"
      },
      "outputs": [],
      "source": [
        "estimators4 = [\n",
        "  ('ada', AdaBoostClassifier(n_estimators=7, base_estimator=DecisionTreeClassifier(max_depth=5))),\n",
        "  ('mlp', RandomForestClassifier(max_depth=5, n_estimators=10, max_features=1)),\n",
        "  (\"xgb\", xgb.XGBClassifier(objective ='reg:squarederror', colsample_bytree = 1, learning_rate = 0.3)),\n",
        "  (\"kn\", KNeighborsClassifier()), \n",
        "  (\"nb\", GaussianNB())\n",
        "]"
      ]
    },
    {
      "cell_type": "code",
      "execution_count": null,
      "metadata": {
        "colab": {
          "base_uri": "https://localhost:8080/"
        },
        "id": "2Rys4rx56iMe",
        "outputId": "4c9ec688-e5b9-4f51-b273-f2ca4acb023f"
      },
      "outputs": [
        {
          "data": {
            "text/plain": [
              "StackingClassifier(estimators=[('ada',\n",
              "                                AdaBoostClassifier(base_estimator=DecisionTreeClassifier(max_depth=5),\n",
              "                                                   n_estimators=7)),\n",
              "                               ('mlp',\n",
              "                                RandomForestClassifier(max_depth=5,\n",
              "                                                       max_features=1,\n",
              "                                                       n_estimators=10)),\n",
              "                               ('xgb',\n",
              "                                XGBClassifier(learning_rate=0.3,\n",
              "                                              objective='reg:squarederror')),\n",
              "                               ('kn', KNeighborsClassifier()),\n",
              "                               ('nb', GaussianNB())],\n",
              "                   final_estimator=LogisticRegression())"
            ]
          },
          "execution_count": 120,
          "metadata": {},
          "output_type": "execute_result"
        }
      ],
      "source": [
        "clf4 = StackingClassifier(estimators=estimators4, stack_method=\"auto\", final_estimator=LogisticRegression())\n",
        "clf4.fit(x_train, y_train)"
      ]
    },
    {
      "cell_type": "code",
      "execution_count": null,
      "metadata": {
        "colab": {
          "base_uri": "https://localhost:8080/"
        },
        "id": "Qnk2q7sr2qDj",
        "outputId": "cfbe85b8-7ed4-4806-ef19-56f81689a87a"
      },
      "outputs": [
        {
          "data": {
            "text/plain": [
              "StackingClassifier(estimators=[('ada',\n",
              "                                AdaBoostClassifier(base_estimator=DecisionTreeClassifier(max_depth=5),\n",
              "                                                   n_estimators=7)),\n",
              "                               ('mlp',\n",
              "                                RandomForestClassifier(max_depth=5,\n",
              "                                                       max_features=1,\n",
              "                                                       n_estimators=10)),\n",
              "                               ('xgb',\n",
              "                                XGBClassifier(learning_rate=0.3,\n",
              "                                              objective='reg:squarederror')),\n",
              "                               ('kn', KNeighborsClassifier()),\n",
              "                               ('nb', GaussianNB())],\n",
              "                   final_estimator=LogisticRegression())"
            ]
          },
          "execution_count": 121,
          "metadata": {},
          "output_type": "execute_result"
        }
      ],
      "source": [
        "clf4_us = StackingClassifier(estimators=estimators4, stack_method=\"auto\", final_estimator=LogisticRegression())\n",
        "clf4_us.fit(x_us_train, y_us_train)"
      ]
    },
    {
      "cell_type": "code",
      "execution_count": null,
      "metadata": {
        "colab": {
          "base_uri": "https://localhost:8080/"
        },
        "id": "Ey2swvY12qj3",
        "outputId": "22aa7c03-f374-4829-eee0-b447b4af474a"
      },
      "outputs": [
        {
          "data": {
            "text/plain": [
              "StackingClassifier(estimators=[('ada',\n",
              "                                AdaBoostClassifier(base_estimator=DecisionTreeClassifier(max_depth=5),\n",
              "                                                   n_estimators=7)),\n",
              "                               ('mlp',\n",
              "                                RandomForestClassifier(max_depth=5,\n",
              "                                                       max_features=1,\n",
              "                                                       n_estimators=10)),\n",
              "                               ('xgb',\n",
              "                                XGBClassifier(learning_rate=0.3,\n",
              "                                              objective='reg:squarederror')),\n",
              "                               ('kn', KNeighborsClassifier()),\n",
              "                               ('nb', GaussianNB())],\n",
              "                   final_estimator=LogisticRegression())"
            ]
          },
          "execution_count": 122,
          "metadata": {},
          "output_type": "execute_result"
        }
      ],
      "source": [
        "clf4_small = StackingClassifier(estimators=estimators4, stack_method=\"auto\", final_estimator=LogisticRegression())\n",
        "clf4_small.fit(x_small_train, y_small_train)"
      ]
    },
    {
      "cell_type": "code",
      "execution_count": null,
      "metadata": {
        "id": "NXU7qh0A8urq"
      },
      "outputs": [],
      "source": [
        "predClf4 = clf4.predict(x_test)\n",
        "predClf4Us = clf4_us.predict(x_us_test)\n",
        "predClf4Small = clf4_small.predict(x_small_test)"
      ]
    },
    {
      "cell_type": "code",
      "execution_count": null,
      "metadata": {
        "colab": {
          "base_uri": "https://localhost:8080/",
          "height": 372
        },
        "id": "by6dF7rq5Yto",
        "outputId": "ee3b9742-ce6c-4200-ee6b-243f1c211369"
      },
      "outputs": [
        {
          "name": "stdout",
          "output_type": "stream",
          "text": [
            "[35543     9     1    48]\n",
            "ROC 0.921038564507149\n",
            "Precision: [0.99974685 0.97959184]\n",
            "Recall: [0.99997187 0.84210526]\n",
            "F1-Score: [0.99985935 0.90566038]\n"
          ]
        },
        {
          "data": {
            "image/png": "[encoded data removed]",
            "text/plain": [
              "<Figure size 432x288 with 2 Axes>"
            ]
          },
          "metadata": {
            "needs_background": "light"
          },
          "output_type": "display_data"
        }
      ],
      "source": [
        "printStats(y_test, predClf4)"
      ]
    },
    {
      "cell_type": "code",
      "execution_count": null,
      "metadata": {
        "colab": {
          "base_uri": "https://localhost:8080/",
          "height": 371
        },
        "id": "msNJjB4c7kV6",
        "outputId": "b24ef25a-ea93-4956-866d-a7f5d39817a0"
      },
      "outputs": [
        {
          "name": "stdout",
          "output_type": "stream",
          "text": [
            "[130  11   2 103]\n",
            "ROC 0.9441786283891547\n",
            "Precision: [0.92198582 0.98095238]\n",
            "Recall: [0.98484848 0.90350877]\n",
            "F1-Score: [0.95238095 0.94063927]\n"
          ]
        },
        {
          "data": {
            "image/png": "[encoded data removed]",
            "text/plain": [
              "<Figure size 432x288 with 2 Axes>"
            ]
          },
          "metadata": {
            "needs_background": "light"
          },
          "output_type": "display_data"
        }
      ],
      "source": [
        "printStats(y_us_test, predClf4Us)"
      ]
    },
    {
      "cell_type": "code",
      "execution_count": null,
      "metadata": {
        "colab": {
          "base_uri": "https://localhost:8080/",
          "height": 371
        },
        "id": "vEX-q7cm7kaN",
        "outputId": "2720f44f-1cb1-4e52-dfa1-711c7b973420"
      },
      "outputs": [
        {
          "name": "stdout",
          "output_type": "stream",
          "text": [
            "[238   2   0   6]\n",
            "ROC 0.875\n",
            "Precision: [0.99166667 1.        ]\n",
            "Recall: [1.   0.75]\n",
            "F1-Score: [0.9958159  0.85714286]\n"
          ]
        },
        {
          "data": {
            "image/png": "[encoded data removed]",
            "text/plain": [
              "<Figure size 432x288 with 2 Axes>"
            ]
          },
          "metadata": {
            "needs_background": "light"
          },
          "output_type": "display_data"
        }
      ],
      "source": [
        "printStats(y_small_test, predClf4Small)"
      ]
    },
    {
      "cell_type": "markdown",
      "metadata": {
        "id": "NWHrJcnIU3UJ"
      },
      "source": [
        "# Combination of boosting classifiers"
      ]
    },
    {
      "cell_type": "code",
      "execution_count": null,
      "metadata": {
        "id": "fvI1eL4pU26g"
      },
      "outputs": [],
      "source": [
        "boostEstimators = [\n",
        "  ('ada', AdaBoostClassifier(n_estimators=7, base_estimator=DecisionTreeClassifier(max_depth=5))),\n",
        "  (\"gb\", GradientBoostingClassifier(n_estimators=10,max_depth=5)),\n",
        "  (\"xgb\", xgb.XGBClassifier(objective ='reg:squarederror', colsample_bytree = 1, learning_rate = 0.3)),\n",
        "]"
      ]
    },
    {
      "cell_type": "code",
      "execution_count": null,
      "metadata": {
        "colab": {
          "base_uri": "https://localhost:8080/"
        },
        "id": "4uazWBqIVT_X",
        "outputId": "5279e04c-8f54-42dd-f96c-3bde226213f7"
      },
      "outputs": [
        {
          "data": {
            "text/plain": [
              "StackingClassifier(estimators=[('ada',\n",
              "                                AdaBoostClassifier(base_estimator=DecisionTreeClassifier(max_depth=5),\n",
              "                                                   n_estimators=7)),\n",
              "                               ('gb',\n",
              "                                GradientBoostingClassifier(max_depth=5,\n",
              "                                                           n_estimators=10)),\n",
              "                               ('xgb',\n",
              "                                XGBClassifier(learning_rate=0.3,\n",
              "                                              objective='reg:squarederror'))],\n",
              "                   final_estimator=LogisticRegression())"
            ]
          },
          "execution_count": 86,
          "metadata": {},
          "output_type": "execute_result"
        }
      ],
      "source": [
        "clfBoost = StackingClassifier(estimators=boostEstimators, stack_method=\"auto\", final_estimator=LogisticRegression())\n",
        "clfBoost.fit(x_train, y_train)"
      ]
    },
    {
      "cell_type": "code",
      "execution_count": null,
      "metadata": {
        "colab": {
          "base_uri": "https://localhost:8080/"
        },
        "id": "I4iojwwEkU-8",
        "outputId": "cb0eddbf-6900-4ce8-9469-327cb8ad6bf5"
      },
      "outputs": [
        {
          "data": {
            "text/plain": [
              "StackingClassifier(estimators=[('ada',\n",
              "                                AdaBoostClassifier(base_estimator=DecisionTreeClassifier(max_depth=5),\n",
              "                                                   n_estimators=7)),\n",
              "                               ('gb',\n",
              "                                GradientBoostingClassifier(max_depth=5,\n",
              "                                                           n_estimators=10)),\n",
              "                               ('xgb',\n",
              "                                XGBClassifier(learning_rate=0.3,\n",
              "                                              objective='reg:squarederror'))],\n",
              "                   final_estimator=LogisticRegression())"
            ]
          },
          "execution_count": 87,
          "metadata": {},
          "output_type": "execute_result"
        }
      ],
      "source": [
        "clfBoostUs = StackingClassifier(estimators=boostEstimators, stack_method=\"auto\", final_estimator=LogisticRegression())\n",
        "clfBoostUs.fit(x_us_train, y_us_train)"
      ]
    },
    {
      "cell_type": "code",
      "execution_count": null,
      "metadata": {
        "colab": {
          "base_uri": "https://localhost:8080/"
        },
        "id": "sX2ufLoAkW-e",
        "outputId": "72d8f409-1d74-4754-afe2-4b237b8d8fce"
      },
      "outputs": [
        {
          "data": {
            "text/plain": [
              "StackingClassifier(estimators=[('ada',\n",
              "                                AdaBoostClassifier(base_estimator=DecisionTreeClassifier(max_depth=5),\n",
              "                                                   n_estimators=7)),\n",
              "                               ('gb',\n",
              "                                GradientBoostingClassifier(max_depth=5,\n",
              "                                                           n_estimators=10)),\n",
              "                               ('xgb',\n",
              "                                XGBClassifier(learning_rate=0.3,\n",
              "                                              objective='reg:squarederror'))],\n",
              "                   final_estimator=LogisticRegression())"
            ]
          },
          "execution_count": 88,
          "metadata": {},
          "output_type": "execute_result"
        }
      ],
      "source": [
        "clfBoostSmall = StackingClassifier(estimators=boostEstimators, stack_method=\"auto\", final_estimator=LogisticRegression())\n",
        "clfBoostSmall.fit(x_small_train, y_small_train)"
      ]
    },
    {
      "cell_type": "code",
      "execution_count": null,
      "metadata": {
        "id": "aiOXWdocVahK"
      },
      "outputs": [],
      "source": [
        "predBoost = clfBoost.predict(x_test)\n",
        "predBoostUs = clfBoostUs.predict(x_us_test)\n",
        "predBoostSmall = clfBoostSmall.predict(x_small_test)"
      ]
    },
    {
      "cell_type": "code",
      "execution_count": null,
      "metadata": {
        "colab": {
          "base_uri": "https://localhost:8080/",
          "height": 372
        },
        "id": "gIQvfTgRVvaG",
        "outputId": "55883022-449a-418f-8ef7-4793206f78ce"
      },
      "outputs": [
        {
          "name": "stdout",
          "output_type": "stream",
          "text": [
            "[35542     7     2    50]\n",
            "ROC 0.9385683570844735\n",
            "Precision: [0.99980309 0.96153846]\n",
            "Recall: [0.99994373 0.87719298]\n",
            "F1-Score: [0.99987341 0.91743119]\n"
          ]
        },
        {
          "data": {
            "image/png": "[encoded data removed]",
            "text/plain": [
              "<Figure size 432x288 with 2 Axes>"
            ]
          },
          "metadata": {
            "needs_background": "light"
          },
          "output_type": "display_data"
        }
      ],
      "source": [
        "printStats(y_test, predBoost)"
      ]
    },
    {
      "cell_type": "code",
      "execution_count": null,
      "metadata": {
        "colab": {
          "base_uri": "https://localhost:8080/",
          "height": 371
        },
        "id": "JLxFgmZ0gR3E",
        "outputId": "a94c4970-6c45-47ac-a932-f960af53e3c0"
      },
      "outputs": [
        {
          "name": "stdout",
          "output_type": "stream",
          "text": [
            "[131  13   1 101]\n",
            "ROC 0.939194577352472\n",
            "Precision: [0.90972222 0.99019608]\n",
            "Recall: [0.99242424 0.88596491]\n",
            "F1-Score: [0.94927536 0.93518519]\n"
          ]
        },
        {
          "data": {
            "image/png": "[encoded data removed]",
            "text/plain": [
              "<Figure size 432x288 with 2 Axes>"
            ]
          },
          "metadata": {
            "needs_background": "light"
          },
          "output_type": "display_data"
        }
      ],
      "source": [
        "printStats(y_us_test, predBoostUs)"
      ]
    },
    {
      "cell_type": "code",
      "execution_count": null,
      "metadata": {
        "colab": {
          "base_uri": "https://localhost:8080/",
          "height": 371
        },
        "id": "CophHHPRgSLO",
        "outputId": "2db69b33-a2e5-4c33-c897-ce6e2cae9102"
      },
      "outputs": [
        {
          "name": "stdout",
          "output_type": "stream",
          "text": [
            "[238   4   0   4]\n",
            "ROC 0.75\n",
            "Precision: [0.98347107 1.        ]\n",
            "Recall: [1.  0.5]\n",
            "F1-Score: [0.99166667 0.66666667]\n"
          ]
        },
        {
          "data": {
            "image/png": "[encoded data removed]",
            "text/plain": [
              "<Figure size 432x288 with 2 Axes>"
            ]
          },
          "metadata": {
            "needs_background": "light"
          },
          "output_type": "display_data"
        }
      ],
      "source": [
        "printStats(y_small_test, predBoostSmall)"
      ]
    },
    {
      "cell_type": "markdown",
      "metadata": {
        "id": "O7HSyw93Lvoi"
      },
      "source": [
        "# Ensembles using best, worst and worst / best"
      ]
    },
    {
      "cell_type": "markdown",
      "metadata": {
        "id": "yc4wtNfzV6wL"
      },
      "source": [
        "## Combination of best (strong) classifiers"
      ]
    },
    {
      "cell_type": "code",
      "execution_count": null,
      "metadata": {
        "id": "Oi8bCPR8V8wg"
      },
      "outputs": [],
      "source": [
        "bestEstimators = [\n",
        "  ('dtc', DecisionTreeClassifier(max_depth=5)), \n",
        "  ('ada', AdaBoostClassifier(n_estimators=7, base_estimator=DecisionTreeClassifier(max_depth=5))),\n",
        "  (\"gb\", GradientBoostingClassifier(n_estimators=10,max_depth=5)),\n",
        "  (\"xgb\", xgb.XGBClassifier(objective ='reg:squarederror', colsample_bytree = 1, learning_rate = 0.3)),\n",
        "  (\"lsvm\", SVC(kernel=\"linear\", C=0.025)),                  \n",
        "]"
      ]
    },
    {
      "cell_type": "code",
      "execution_count": null,
      "metadata": {
        "colab": {
          "base_uri": "https://localhost:8080/"
        },
        "id": "1k4Tg9bsXG-b",
        "outputId": "c90e4a7f-63e9-4360-e98b-550b659b61ed"
      },
      "outputs": [
        {
          "data": {
            "text/plain": [
              "StackingClassifier(estimators=[('dtc', DecisionTreeClassifier(max_depth=5)),\n",
              "                               ('ada',\n",
              "                                AdaBoostClassifier(base_estimator=DecisionTreeClassifier(max_depth=5),\n",
              "                                                   n_estimators=7)),\n",
              "                               ('gb',\n",
              "                                GradientBoostingClassifier(max_depth=5,\n",
              "                                                           n_estimators=10)),\n",
              "                               ('xgb',\n",
              "                                XGBClassifier(learning_rate=0.3,\n",
              "                                              objective='reg:squarederror')),\n",
              "                               ('lsvm', SVC(C=0.025, kernel='linear'))],\n",
              "                   final_estimator=LogisticRegression())"
            ]
          },
          "execution_count": 37,
          "metadata": {},
          "output_type": "execute_result"
        }
      ],
      "source": [
        "clfBest = StackingClassifier(estimators=bestEstimators, stack_method=\"auto\", final_estimator=LogisticRegression())\n",
        "clfBest.fit(x_train, y_train)"
      ]
    },
    {
      "cell_type": "code",
      "execution_count": null,
      "metadata": {
        "colab": {
          "base_uri": "https://localhost:8080/"
        },
        "id": "gW4RREp5iqiI",
        "outputId": "74b24fc0-8c05-44b4-e198-8b1bf5a38ee0"
      },
      "outputs": [
        {
          "data": {
            "text/plain": [
              "StackingClassifier(estimators=[('dtc', DecisionTreeClassifier(max_depth=5)),\n",
              "                               ('ada',\n",
              "                                AdaBoostClassifier(base_estimator=DecisionTreeClassifier(max_depth=5),\n",
              "                                                   n_estimators=7)),\n",
              "                               ('gb',\n",
              "                                GradientBoostingClassifier(max_depth=5,\n",
              "                                                           n_estimators=10)),\n",
              "                               ('xgb',\n",
              "                                XGBClassifier(learning_rate=0.3,\n",
              "                                              objective='reg:squarederror')),\n",
              "                               ('lsvm', SVC(C=0.025, kernel='linear'))],\n",
              "                   final_estimator=LogisticRegression())"
            ]
          },
          "execution_count": 75,
          "metadata": {},
          "output_type": "execute_result"
        }
      ],
      "source": [
        "clfBestUs = StackingClassifier(estimators=bestEstimators, stack_method=\"auto\", final_estimator=LogisticRegression())\n",
        "clfBestUs.fit(x_us_train, y_us_train)"
      ]
    },
    {
      "cell_type": "code",
      "execution_count": null,
      "metadata": {
        "colab": {
          "base_uri": "https://localhost:8080/"
        },
        "id": "cWAoMkgiiy_7",
        "outputId": "9f9c160f-2e8d-4a57-9dce-9646ef14fa5c"
      },
      "outputs": [
        {
          "data": {
            "text/plain": [
              "StackingClassifier(estimators=[('dtc', DecisionTreeClassifier(max_depth=5)),\n",
              "                               ('ada',\n",
              "                                AdaBoostClassifier(base_estimator=DecisionTreeClassifier(max_depth=5),\n",
              "                                                   n_estimators=7)),\n",
              "                               ('gb',\n",
              "                                GradientBoostingClassifier(max_depth=5,\n",
              "                                                           n_estimators=10)),\n",
              "                               ('xgb',\n",
              "                                XGBClassifier(learning_rate=0.3,\n",
              "                                              objective='reg:squarederror')),\n",
              "                               ('lsvm', SVC(C=0.025, kernel='linear'))],\n",
              "                   final_estimator=LogisticRegression())"
            ]
          },
          "execution_count": 76,
          "metadata": {},
          "output_type": "execute_result"
        }
      ],
      "source": [
        "clfBestSmall = StackingClassifier(estimators=bestEstimators, stack_method=\"auto\", final_estimator=LogisticRegression())\n",
        "clfBestSmall.fit(x_small_train, y_small_train)"
      ]
    },
    {
      "cell_type": "code",
      "execution_count": null,
      "metadata": {
        "id": "t4Aqz3OCZD27"
      },
      "outputs": [],
      "source": [
        "predBest = clfBest.predict(x_test)\n",
        "predBestUs = clfBestUs.predict(x_us_test)\n",
        "predBestSmall = clfBestSmall.predict(x_small_test)\n"
      ]
    },
    {
      "cell_type": "code",
      "execution_count": null,
      "metadata": {
        "colab": {
          "base_uri": "https://localhost:8080/",
          "height": 372
        },
        "id": "AupaG_zkY_4e",
        "outputId": "73d0b329-a2ad-4b50-fac5-271954a3c351"
      },
      "outputs": [
        {
          "name": "stdout",
          "output_type": "stream",
          "text": [
            "[35543     8     1    49]\n",
            "ROC 0.9298104943317105\n",
            "Precision: [0.99977497 0.98      ]\n",
            "Recall: [0.99997187 0.85964912]\n",
            "F1-Score: [0.99987341 0.91588785]\n"
          ]
        },
        {
          "data": {
            "image/png": "[encoded data removed]",
            "text/plain": [
              "<Figure size 432x288 with 2 Axes>"
            ]
          },
          "metadata": {
            "needs_background": "light"
          },
          "output_type": "display_data"
        }
      ],
      "source": [
        "printStats(y_test, predBest)"
      ]
    },
    {
      "cell_type": "code",
      "execution_count": null,
      "metadata": {
        "colab": {
          "base_uri": "https://localhost:8080/",
          "height": 371
        },
        "id": "JyVoEzC6bz4_",
        "outputId": "74cfda2d-2cae-4807-a835-ab6a8b3eac47"
      },
      "outputs": [
        {
          "name": "stdout",
          "output_type": "stream",
          "text": [
            "[130  11   2 103]\n",
            "ROC 0.9441786283891547\n",
            "Precision: [0.92198582 0.98095238]\n",
            "Recall: [0.98484848 0.90350877]\n",
            "F1-Score: [0.95238095 0.94063927]\n"
          ]
        },
        {
          "data": {
            "image/png": "[encoded data removed]",
            "text/plain": [
              "<Figure size 432x288 with 2 Axes>"
            ]
          },
          "metadata": {
            "needs_background": "light"
          },
          "output_type": "display_data"
        }
      ],
      "source": [
        "printStats(y_us_test, predBestUs)"
      ]
    },
    {
      "cell_type": "code",
      "execution_count": null,
      "metadata": {
        "colab": {
          "base_uri": "https://localhost:8080/",
          "height": 371
        },
        "id": "Rm971GLteagv",
        "outputId": "ae9ac51e-7667-4cce-c505-7f43641d0455"
      },
      "outputs": [
        {
          "name": "stdout",
          "output_type": "stream",
          "text": [
            "[238   2   0   6]\n",
            "ROC 0.875\n",
            "Precision: [0.99166667 1.        ]\n",
            "Recall: [1.   0.75]\n",
            "F1-Score: [0.9958159  0.85714286]\n"
          ]
        },
        {
          "data": {
            "image/png": "[encoded data removed]",
            "text/plain": [
              "<Figure size 432x288 with 2 Axes>"
            ]
          },
          "metadata": {
            "needs_background": "light"
          },
          "output_type": "display_data"
        }
      ],
      "source": [
        "printStats(y_small_test, predBestSmall)\n"
      ]
    },
    {
      "cell_type": "markdown",
      "metadata": {
        "id": "z3OnfOxiNUuc"
      },
      "source": [
        "## Combination of worst classifiers"
      ]
    },
    {
      "cell_type": "code",
      "execution_count": null,
      "metadata": {
        "id": "zRLr7za3L7DQ"
      },
      "outputs": [],
      "source": [
        "worstEstimators = [\n",
        "  (\"nb\", GaussianNB()),\n",
        "  ('rf', RandomForestClassifier(max_depth=5, n_estimators=10, max_features=1)),\n",
        "  ('mlp', MLPClassifier(alpha=1, max_iter=1000)),\n",
        "  (\"kn\", KNeighborsClassifier()), \n",
        "]"
      ]
    },
    {
      "cell_type": "code",
      "execution_count": null,
      "metadata": {
        "colab": {
          "base_uri": "https://localhost:8080/"
        },
        "id": "dYMCChJjMYXH",
        "outputId": "dfa09109-1450-4d28-c831-048c85e9828d"
      },
      "outputs": [
        {
          "data": {
            "text/plain": [
              "StackingClassifier(estimators=[('nb', GaussianNB()),\n",
              "                               ('rf',\n",
              "                                RandomForestClassifier(max_depth=5,\n",
              "                                                       max_features=1,\n",
              "                                                       n_estimators=10)),\n",
              "                               ('mlp', MLPClassifier(alpha=1, max_iter=1000)),\n",
              "                               ('kn', KNeighborsClassifier())],\n",
              "                   final_estimator=LogisticRegression())"
            ]
          },
          "execution_count": 27,
          "metadata": {},
          "output_type": "execute_result"
        }
      ],
      "source": [
        "clfWorst = StackingClassifier(estimators=worstEstimators, stack_method=\"auto\", final_estimator=LogisticRegression())\n",
        "clfWorst.fit(x_train, y_train)"
      ]
    },
    {
      "cell_type": "code",
      "execution_count": null,
      "metadata": {
        "colab": {
          "base_uri": "https://localhost:8080/"
        },
        "id": "Bio88MsKiJ7w",
        "outputId": "6f0a6ce7-1e7e-4c6b-d1e8-70c688417a3f"
      },
      "outputs": [
        {
          "data": {
            "text/plain": [
              "StackingClassifier(estimators=[('nb', GaussianNB()),\n",
              "                               ('rf',\n",
              "                                RandomForestClassifier(max_depth=5,\n",
              "                                                       max_features=1,\n",
              "                                                       n_estimators=10)),\n",
              "                               ('mlp', MLPClassifier(alpha=1, max_iter=1000)),\n",
              "                               ('kn', KNeighborsClassifier())],\n",
              "                   final_estimator=LogisticRegression())"
            ]
          },
          "execution_count": 68,
          "metadata": {},
          "output_type": "execute_result"
        }
      ],
      "source": [
        "clfWorstUs = StackingClassifier(estimators=worstEstimators, stack_method=\"auto\", final_estimator=LogisticRegression())\n",
        "clfWorstUs.fit(x_us_train, y_us_train)"
      ]
    },
    {
      "cell_type": "code",
      "execution_count": null,
      "metadata": {
        "colab": {
          "base_uri": "https://localhost:8080/"
        },
        "id": "YOXwi9TJiNKr",
        "outputId": "ad11615c-8284-4108-dee3-37c40d5040cc"
      },
      "outputs": [
        {
          "data": {
            "text/plain": [
              "StackingClassifier(estimators=[('nb', GaussianNB()),\n",
              "                               ('rf',\n",
              "                                RandomForestClassifier(max_depth=5,\n",
              "                                                       max_features=1,\n",
              "                                                       n_estimators=10)),\n",
              "                               ('mlp', MLPClassifier(alpha=1, max_iter=1000)),\n",
              "                               ('kn', KNeighborsClassifier())],\n",
              "                   final_estimator=LogisticRegression())"
            ]
          },
          "execution_count": 69,
          "metadata": {},
          "output_type": "execute_result"
        }
      ],
      "source": [
        "clfWorstSmall = StackingClassifier(estimators=worstEstimators, stack_method=\"auto\", final_estimator=LogisticRegression())\n",
        "clfWorstSmall.fit(x_small_train, y_small_train)"
      ]
    },
    {
      "cell_type": "code",
      "execution_count": null,
      "metadata": {
        "id": "gGsQHSSFMjvU"
      },
      "outputs": [],
      "source": [
        "predWorst = clfWorst.predict(x_test)\n",
        "predWorstUs = clfWorstUs.predict(x_us_test)\n",
        "predWorstSmall = clfWorstSmall.predict(x_small_test)"
      ]
    },
    {
      "cell_type": "code",
      "execution_count": null,
      "metadata": {
        "colab": {
          "base_uri": "https://localhost:8080/",
          "height": 372
        },
        "id": "fa6SnYTdTK4V",
        "outputId": "139f5ecf-5293-4a90-8588-02fd56db9d68"
      },
      "outputs": [
        {
          "name": "stdout",
          "output_type": "stream",
          "text": [
            "[35538    11     6    46]\n",
            "ROC 0.9034243694990345\n",
            "Precision: [0.99969057 0.88461538]\n",
            "Recall: [0.9998312  0.80701754]\n",
            "F1-Score: [0.99976088 0.8440367 ]\n"
          ]
        },
        {
          "data": {
            "image/png": "[encoded data removed]",
            "text/plain": [
              "<Figure size 432x288 with 2 Axes>"
            ]
          },
          "metadata": {
            "needs_background": "light"
          },
          "output_type": "display_data"
        }
      ],
      "source": [
        "printStats(y_test, predWorst)"
      ]
    },
    {
      "cell_type": "code",
      "execution_count": null,
      "metadata": {
        "colab": {
          "base_uri": "https://localhost:8080/",
          "height": 371
        },
        "id": "6XbDE2Tvb5HH",
        "outputId": "50202a2d-7bcd-482c-dbec-a3ade999c511"
      },
      "outputs": [
        {
          "name": "stdout",
          "output_type": "stream",
          "text": [
            "[128   9   4 105]\n",
            "ROC 0.9453748006379585\n",
            "Precision: [0.93430657 0.96330275]\n",
            "Recall: [0.96969697 0.92105263]\n",
            "F1-Score: [0.95167286 0.94170404]\n"
          ]
        },
        {
          "data": {
            "image/png": "[encoded data removed]",
            "text/plain": [
              "<Figure size 432x288 with 2 Axes>"
            ]
          },
          "metadata": {
            "needs_background": "light"
          },
          "output_type": "display_data"
        }
      ],
      "source": [
        "printStats(y_us_test, predWorstUs)"
      ]
    },
    {
      "cell_type": "code",
      "execution_count": null,
      "metadata": {
        "colab": {
          "base_uri": "https://localhost:8080/",
          "height": 371
        },
        "id": "aTsQnHWDerVL",
        "outputId": "b420c1e2-7521-4d47-f8ba-dbc7b4b9d8d8"
      },
      "outputs": [
        {
          "name": "stdout",
          "output_type": "stream",
          "text": [
            "[237   2   1   6]\n",
            "ROC 0.8728991596638656\n",
            "Precision: [0.9916318  0.85714286]\n",
            "Recall: [0.99579832 0.75      ]\n",
            "F1-Score: [0.99371069 0.8       ]\n"
          ]
        },
        {
          "data": {
            "image/png": "[encoded data removed]",
            "text/plain": [
              "<Figure size 432x288 with 2 Axes>"
            ]
          },
          "metadata": {
            "needs_background": "light"
          },
          "output_type": "display_data"
        }
      ],
      "source": [
        "printStats(y_small_test, predWorstSmall)"
      ]
    },
    {
      "cell_type": "markdown",
      "metadata": {
        "id": "Ajhea-_-NQyN"
      },
      "source": [
        "## Combination of worst and best"
      ]
    },
    {
      "cell_type": "code",
      "execution_count": null,
      "metadata": {
        "id": "LlrvJu65MfUU"
      },
      "outputs": [],
      "source": [
        "worstAndBestEstimators = [\n",
        "  (\"gb\", GradientBoostingClassifier(n_estimators=10,max_depth=5)),         \n",
        "  (\"xgb\", xgb.XGBClassifier(objective ='reg:squarederror', colsample_bytree = 1, learning_rate = 0.3)),\n",
        "  ('rf', RandomForestClassifier(max_depth=5, n_estimators=10, max_features=1)),\n",
        "  (\"kn\", KNeighborsClassifier()),\n",
        "  (\"nb\", GaussianNB())\n",
        "]"
      ]
    },
    {
      "cell_type": "code",
      "execution_count": null,
      "metadata": {
        "colab": {
          "base_uri": "https://localhost:8080/"
        },
        "id": "sKrdQ7-nM8sG",
        "outputId": "d0c12ce4-99f9-4d7f-ce6a-d543928e694a"
      },
      "outputs": [
        {
          "data": {
            "text/plain": [
              "StackingClassifier(estimators=[('gb',\n",
              "                                GradientBoostingClassifier(max_depth=5,\n",
              "                                                           n_estimators=10)),\n",
              "                               ('xgb',\n",
              "                                XGBClassifier(learning_rate=0.3,\n",
              "                                              objective='reg:squarederror')),\n",
              "                               ('rf',\n",
              "                                RandomForestClassifier(max_depth=5,\n",
              "                                                       max_features=1,\n",
              "                                                       n_estimators=10)),\n",
              "                               ('kn', KNeighborsClassifier()),\n",
              "                               ('nb', GaussianNB())],\n",
              "                   final_estimator=LogisticRegression())"
            ]
          },
          "execution_count": 61,
          "metadata": {},
          "output_type": "execute_result"
        }
      ],
      "source": [
        "clfWorstBest = StackingClassifier(estimators=worstAndBestEstimators, stack_method=\"auto\", final_estimator=LogisticRegression())\n",
        "clfWorstBest.fit(x_train, y_train)"
      ]
    },
    {
      "cell_type": "code",
      "execution_count": null,
      "metadata": {
        "colab": {
          "base_uri": "https://localhost:8080/"
        },
        "id": "AH_Rzi8rhKBg",
        "outputId": "aaad1987-210a-4787-8419-126ac0f36284"
      },
      "outputs": [
        {
          "data": {
            "text/plain": [
              "StackingClassifier(estimators=[('gb',\n",
              "                                GradientBoostingClassifier(max_depth=5,\n",
              "                                                           n_estimators=10)),\n",
              "                               ('xgb',\n",
              "                                XGBClassifier(learning_rate=0.3,\n",
              "                                              objective='reg:squarederror')),\n",
              "                               ('rf',\n",
              "                                RandomForestClassifier(max_depth=5,\n",
              "                                                       max_features=1,\n",
              "                                                       n_estimators=10)),\n",
              "                               ('kn', KNeighborsClassifier()),\n",
              "                               ('nb', GaussianNB())],\n",
              "                   final_estimator=LogisticRegression())"
            ]
          },
          "execution_count": 62,
          "metadata": {},
          "output_type": "execute_result"
        }
      ],
      "source": [
        "clfWorstBestUs = StackingClassifier(estimators=worstAndBestEstimators, stack_method=\"auto\", final_estimator=LogisticRegression())\n",
        "clfWorstBestUs.fit(x_us_train, y_us_train)"
      ]
    },
    {
      "cell_type": "code",
      "execution_count": null,
      "metadata": {
        "colab": {
          "base_uri": "https://localhost:8080/"
        },
        "id": "fizAY-gWhWR-",
        "outputId": "30dd3354-94ac-428e-fd51-53723c091307"
      },
      "outputs": [
        {
          "data": {
            "text/plain": [
              "StackingClassifier(estimators=[('gb',\n",
              "                                GradientBoostingClassifier(max_depth=5,\n",
              "                                                           n_estimators=10)),\n",
              "                               ('xgb',\n",
              "                                XGBClassifier(learning_rate=0.3,\n",
              "                                              objective='reg:squarederror')),\n",
              "                               ('rf',\n",
              "                                RandomForestClassifier(max_depth=5,\n",
              "                                                       max_features=1,\n",
              "                                                       n_estimators=10)),\n",
              "                               ('kn', KNeighborsClassifier()),\n",
              "                               ('nb', GaussianNB())],\n",
              "                   final_estimator=LogisticRegression())"
            ]
          },
          "execution_count": 63,
          "metadata": {},
          "output_type": "execute_result"
        }
      ],
      "source": [
        "clfWorstBestSmall = StackingClassifier(estimators=worstAndBestEstimators, stack_method=\"auto\", final_estimator=LogisticRegression())\n",
        "clfWorstBestSmall.fit(x_small_train, y_small_train)"
      ]
    },
    {
      "cell_type": "code",
      "execution_count": null,
      "metadata": {
        "id": "4rwH-3OEM80g"
      },
      "outputs": [],
      "source": [
        "predWorstBest = clfWorstBest.predict(x_test)\n",
        "predWorstBestUs = clfWorstBestUs.predict(x_us_test)\n",
        "predWorstBestSmall = clfWorstBestSmall.predict(x_small_test)"
      ]
    },
    {
      "cell_type": "code",
      "execution_count": null,
      "metadata": {
        "colab": {
          "base_uri": "https://localhost:8080/",
          "height": 372
        },
        "id": "A48zoU-IPH-c",
        "outputId": "074522ea-e08c-450f-fe21-4d1a2b87424e"
      },
      "outputs": [
        {
          "name": "stdout",
          "output_type": "stream",
          "text": [
            "[35541     8     3    49]\n",
            "ROC 0.9297823601881138\n",
            "Precision: [0.99977496 0.94230769]\n",
            "Recall: [0.9999156  0.85964912]\n",
            "F1-Score: [0.99984527 0.89908257]\n"
          ]
        },
        {
          "data": {
            "image/png": "[encoded data removed]",
            "text/plain": [
              "<Figure size 432x288 with 2 Axes>"
            ]
          },
          "metadata": {
            "needs_background": "light"
          },
          "output_type": "display_data"
        }
      ],
      "source": [
        "printStats(y_test, predWorstBest)"
      ]
    },
    {
      "cell_type": "code",
      "execution_count": null,
      "metadata": {
        "colab": {
          "base_uri": "https://localhost:8080/",
          "height": 371
        },
        "id": "sF5CMZULcHqZ",
        "outputId": "04aca733-9ae0-4594-e010-05fe30b841ef"
      },
      "outputs": [
        {
          "name": "stdout",
          "output_type": "stream",
          "text": [
            "[131  11   1 103]\n",
            "ROC 0.9479665071770335\n",
            "Precision: [0.92253521 0.99038462]\n",
            "Recall: [0.99242424 0.90350877]\n",
            "F1-Score: [0.95620438 0.94495413]\n"
          ]
        },
        {
          "data": {
            "image/png": "[encoded data removed]",
            "text/plain": [
              "<Figure size 432x288 with 2 Axes>"
            ]
          },
          "metadata": {
            "needs_background": "light"
          },
          "output_type": "display_data"
        }
      ],
      "source": [
        "printStats(y_us_test, predWorstBestUs)"
      ]
    },
    {
      "cell_type": "code",
      "execution_count": null,
      "metadata": {
        "colab": {
          "base_uri": "https://localhost:8080/",
          "height": 371
        },
        "id": "eu2n1_wSfW5q",
        "outputId": "e5a40205-5b50-4405-892c-d887004b1681"
      },
      "outputs": [
        {
          "name": "stdout",
          "output_type": "stream",
          "text": [
            "[238   1   0   7]\n",
            "ROC 0.9375\n",
            "Precision: [0.9958159 1.       ]\n",
            "Recall: [1.    0.875]\n",
            "F1-Score: [0.99790356 0.93333333]\n"
          ]
        },
        {
          "data": {
            "image/png": "[encoded data removed]",
            "text/plain": [
              "<Figure size 432x288 with 2 Axes>"
            ]
          },
          "metadata": {
            "needs_background": "light"
          },
          "output_type": "display_data"
        }
      ],
      "source": [
        "printStats(y_small_test, predWorstBestSmall)"
      ]
    }
  ],
  "metadata": {
    "colab": {
      "name": "Ensemble Classifier.ipynb",
      "provenance": []
    },
    "kernelspec": {
      "display_name": "Python 3",
      "name": "python3"
    },
    "language_info": {
      "codemirror_mode": {
        "name": "ipython",
        "version": 3
      },
      "file_extension": ".py",
      "mimetype": "text/x-python",
      "name": "python",
      "nbconvert_exporter": "python",
      "pygments_lexer": "ipython3",
      "version": "3.8.10"
    }
  },
  "nbformat": 4,
  "nbformat_minor": 0
}
